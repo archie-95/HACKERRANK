{
 "cells": [
  {
   "cell_type": "code",
   "execution_count": 11,
   "metadata": {},
   "outputs": [
    {
     "name": "stdout",
     "output_type": "stream",
     "text": [
      "5\n",
      "1 2 3 4 5\n",
      "9\n"
     ]
    }
   ],
   "source": [
    "import math\n",
    "import os\n",
    "import random\n",
    "import re\n",
    "import sys\n",
    "\n",
    "# Complete the largestRectangle function below.\n",
    "def largestRectangle(h):\n",
    "    h.append(0)\n",
    "    stack = []\n",
    "    maxArea = (0, 0, 0, 0)\n",
    "    for i, height in enumerate(h):\n",
    "        j = i\n",
    "        while stack and stack[-1][1] >= height:\n",
    "            j, last = stack.pop()\n",
    "            area = (i - j) * last\n",
    "            if area > maxArea[0]:\n",
    "                maxArea = (area, j, i, last)\n",
    "        stack.append((j, height))\n",
    "    return maxArea[0]\n",
    "\n",
    "\n",
    "\n",
    "n = int(input())\n",
    "h = list(map(int, input().rstrip().split()))\n",
    "result = largestRectangle(h)\n",
    "print(result)"
   ]
  },
  {
   "cell_type": "code",
   "execution_count": 14,
   "metadata": {},
   "outputs": [
    {
     "data": {
      "text/plain": [
       "[4, 5]"
      ]
     },
     "execution_count": 14,
     "metadata": {},
     "output_type": "execute_result"
    }
   ],
   "source": [
    "l=[1,2,3,4,5]\n",
    "l[3:6]"
   ]
  },
  {
   "cell_type": "code",
   "execution_count": null,
   "metadata": {},
   "outputs": [],
   "source": []
  }
 ],
 "metadata": {
  "kernelspec": {
   "display_name": "Python 3",
   "language": "python",
   "name": "python3"
  },
  "language_info": {
   "codemirror_mode": {
    "name": "ipython",
    "version": 3
   },
   "file_extension": ".py",
   "mimetype": "text/x-python",
   "name": "python",
   "nbconvert_exporter": "python",
   "pygments_lexer": "ipython3",
   "version": "3.7.1"
  }
 },
 "nbformat": 4,
 "nbformat_minor": 2
}
