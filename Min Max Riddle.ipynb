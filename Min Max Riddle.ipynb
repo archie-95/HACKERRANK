{
 "cells": [
  {
   "cell_type": "code",
   "execution_count": 1,
   "metadata": {},
   "outputs": [
    {
     "name": "stdout",
     "output_type": "stream",
     "text": [
      "4\n",
      "2 6 1 12\n"
     ]
    },
    {
     "data": {
      "text/plain": [
       "[12, 2, 1, 1]"
      ]
     },
     "execution_count": 1,
     "metadata": {},
     "output_type": "execute_result"
    }
   ],
   "source": [
    "def riddle(arr):\n",
    "    s=[]\n",
    "    left=[-1]*(n+1)\n",
    "    right=[n]*(n+1)\n",
    "    for i in range(n):\n",
    "        while (len(s) != 0 and \n",
    "               arr[s[-1]] >= arr[i]): \n",
    "            s.pop() \n",
    "\n",
    "        if (len(s) != 0):\n",
    "            left[i] = s[-1]\n",
    "\n",
    "        s.append(i)      \n",
    "    \n",
    "    while(len(s)):\n",
    "        s.pop()\n",
    "\n",
    "    for i in range(n-1,-1,-1):\n",
    "        while(len(s) and arr[s[-1]]>=arr[i] ):\n",
    "            s.pop()\n",
    "        if (len(s)):\n",
    "            right[i]=s[-1]\n",
    "        s.append(i)\n",
    "\n",
    "    ans=[0]*(n+1)\n",
    "    for i in range(n):\n",
    "        length=right[i]-left[i]-1\n",
    "        ans[length]=max(ans[length],arr[i])\n",
    "\n",
    "    for i in range(n-1,0,-1):\n",
    "        ans[i]=max(ans[i],ans[i+1])\n",
    "\n",
    "    return ans[1:]\n",
    "\n",
    "\n",
    "n = int(input())\n",
    "arr = list(map(int, input().rstrip().split()))\n",
    "riddle(arr)\n"
   ]
  },
  {
   "cell_type": "code",
   "execution_count": null,
   "metadata": {},
   "outputs": [],
   "source": []
  }
 ],
 "metadata": {
  "kernelspec": {
   "display_name": "Python 3",
   "language": "python",
   "name": "python3"
  },
  "language_info": {
   "codemirror_mode": {
    "name": "ipython",
    "version": 3
   },
   "file_extension": ".py",
   "mimetype": "text/x-python",
   "name": "python",
   "nbconvert_exporter": "python",
   "pygments_lexer": "ipython3",
   "version": "3.7.1"
  }
 },
 "nbformat": 4,
 "nbformat_minor": 2
}
