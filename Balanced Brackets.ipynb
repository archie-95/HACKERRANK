{
 "cells": [
  {
   "cell_type": "code",
   "execution_count": 1,
   "metadata": {},
   "outputs": [
    {
     "name": "stdout",
     "output_type": "stream",
     "text": [
      "1\n",
      "[()][{}()][](){}([{}(())([[{}]])][])[]([][])(){}{{}{[](){}}}()[]({})[{}{{}([{}][])}]\n",
      "YES\n"
     ]
    }
   ],
   "source": [
    "def isbalanced(s):\n",
    "    inp=list(s)\n",
    "    stack=[]\n",
    "    stack.append(\"#\")\n",
    "    for i in inp:\n",
    "        if i in [\"{\",\"[\",\"(\"]:\n",
    "            stack.append(i)\n",
    "        elif i == \"}\":\n",
    "            if stack[-1]==\"{\":\n",
    "                stack.pop()\n",
    "            else:\n",
    "                return \"NO\"\n",
    "        elif i == \"]\":\n",
    "            if stack[-1]==\"[\":\n",
    "                stack.pop()\n",
    "            else:\n",
    "                return \"NO\"\n",
    "        elif i == \")\":\n",
    "            if stack[-1]==\"(\":\n",
    "                stack.pop()\n",
    "            else:\n",
    "                return \"NO\"\n",
    "    if stack[-1]==\"#\":\n",
    "        return \"YES\"\n",
    "    \n",
    "n=int(input())\n",
    "for i in range(n):\n",
    "    st=input()\n",
    "    res=isbalanced(st)\n",
    "    print(res)\n"
   ]
  },
  {
   "cell_type": "code",
   "execution_count": null,
   "metadata": {},
   "outputs": [],
   "source": []
  }
 ],
 "metadata": {
  "kernelspec": {
   "display_name": "Python 3",
   "language": "python",
   "name": "python3"
  },
  "language_info": {
   "codemirror_mode": {
    "name": "ipython",
    "version": 3
   },
   "file_extension": ".py",
   "mimetype": "text/x-python",
   "name": "python",
   "nbconvert_exporter": "python",
   "pygments_lexer": "ipython3",
   "version": "3.7.1"
  }
 },
 "nbformat": 4,
 "nbformat_minor": 2
}
