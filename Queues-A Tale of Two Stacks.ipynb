{
 "cells": [
  {
   "cell_type": "code",
   "execution_count": 1,
   "metadata": {},
   "outputs": [
    {
     "name": "stdout",
     "output_type": "stream",
     "text": [
      "2\n",
      "1 23\n",
      "1\n"
     ]
    }
   ],
   "source": [
    "n=int(input())\n",
    "l=list()\n",
    "fir=0\n",
    "for i in range(n):\n",
    "    inp=input()\n",
    "    if \"1\" in inp:\n",
    "        inp=inp.replace(\"1 \",\"\",1)\n",
    "        l.append(inp)\n",
    "    if \"2\"== inp:\n",
    "        l.pop(0)\n",
    "    if \"3\" == inp:\n",
    "            print(l[0])\n"
   ]
  },
  {
   "cell_type": "code",
   "execution_count": null,
   "metadata": {},
   "outputs": [],
   "source": []
  }
 ],
 "metadata": {
  "kernelspec": {
   "display_name": "Python 3",
   "language": "python",
   "name": "python3"
  },
  "language_info": {
   "codemirror_mode": {
    "name": "ipython",
    "version": 3
   },
   "file_extension": ".py",
   "mimetype": "text/x-python",
   "name": "python",
   "nbconvert_exporter": "python",
   "pygments_lexer": "ipython3",
   "version": "3.7.1"
  }
 },
 "nbformat": 4,
 "nbformat_minor": 2
}
